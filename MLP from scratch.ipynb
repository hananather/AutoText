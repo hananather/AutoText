{
 "cells": [
  {
   "cell_type": "code",
   "execution_count": 1,
   "id": "9dca4d3e-a3ea-4be2-8ab2-8c3aa5e44abb",
   "metadata": {},
   "outputs": [],
   "source": [
    "import torch\n",
    "import torch.nn.functional as F\n",
    "import matplotlib.pyplot as plt\n",
    "%matplotlib inline"
   ]
  },
  {
   "cell_type": "code",
   "execution_count": 2,
   "id": "71b9872a-5a28-4308-bc61-84b50870aba3",
   "metadata": {},
   "outputs": [],
   "source": [
    "words = open('names.txt', 'r').read().splitlines()"
   ]
  },
  {
   "cell_type": "code",
   "execution_count": 16,
   "id": "4e4a2e6b-c40e-4b77-857b-d577cdf9fe95",
   "metadata": {},
   "outputs": [
    {
     "data": {
      "text/plain": [
       "{'a': 1,\n",
       " 'b': 2,\n",
       " 'c': 3,\n",
       " 'd': 4,\n",
       " 'e': 5,\n",
       " 'f': 6,\n",
       " 'g': 7,\n",
       " 'h': 8,\n",
       " 'i': 9,\n",
       " 'j': 10,\n",
       " 'k': 11,\n",
       " 'l': 12,\n",
       " 'm': 13,\n",
       " 'n': 14,\n",
       " 'o': 15,\n",
       " 'p': 16,\n",
       " 'q': 17,\n",
       " 'r': 18,\n",
       " 's': 19,\n",
       " 't': 20,\n",
       " 'u': 21,\n",
       " 'v': 22,\n",
       " 'w': 23,\n",
       " 'x': 24,\n",
       " 'y': 25,\n",
       " 'z': 26,\n",
       " '.': 0}"
      ]
     },
     "execution_count": 16,
     "metadata": {},
     "output_type": "execute_result"
    }
   ],
   "source": [
    "stoi = {s: i+1 for i, s in enumerate(sorted(list(set(''.join(words)))))}\n",
    "stoi['.'] = 0\n",
    "stoi"
   ]
  },
  {
   "cell_type": "code",
   "execution_count": 21,
   "id": "a910ba94-d94b-4209-9297-dc03e29920b3",
   "metadata": {},
   "outputs": [
    {
     "name": "stdout",
     "output_type": "stream",
     "text": [
      "['.', '.', '.'] -> e\n",
      "['.', '.', 'e'] -> m\n",
      "['.', 'e', 'm'] -> m\n",
      "['e', 'm', 'm'] -> a\n",
      "['m', 'm', 'a'] -> .\n",
      "['.', '.', '.'] -> o\n",
      "['.', '.', 'o'] -> l\n",
      "['.', 'o', 'l'] -> i\n",
      "['o', 'l', 'i'] -> v\n",
      "['l', 'i', 'v'] -> i\n",
      "['i', 'v', 'i'] -> a\n",
      "['v', 'i', 'a'] -> .\n",
      "['.', '.', '.'] -> a\n",
      "['.', '.', 'a'] -> v\n",
      "['.', 'a', 'v'] -> a\n",
      "['a', 'v', 'a'] -> .\n",
      "['.', '.', '.'] -> i\n",
      "['.', '.', 'i'] -> s\n",
      "['.', 'i', 's'] -> a\n",
      "['i', 's', 'a'] -> b\n",
      "['s', 'a', 'b'] -> e\n",
      "['a', 'b', 'e'] -> l\n",
      "['b', 'e', 'l'] -> l\n",
      "['e', 'l', 'l'] -> a\n",
      "['l', 'l', 'a'] -> .\n",
      "['.', '.', '.'] -> s\n",
      "['.', '.', 's'] -> o\n",
      "['.', 's', 'o'] -> p\n",
      "['s', 'o', 'p'] -> h\n",
      "['o', 'p', 'h'] -> i\n",
      "['p', 'h', 'i'] -> a\n",
      "['h', 'i', 'a'] -> .\n"
     ]
    }
   ],
   "source": [
    "context_length = 3 \n",
    "X, Y = [], []\n",
    "\n",
    "for word in words[:5]:\n",
    "    # initialize the context for the word: \n",
    "    context  = ['.'] * context_length\n",
    "    for ch in word + '.':\n",
    "        X.append([stoi[s] for s in context])\n",
    "        Y.append(ch)\n",
    "        print(context, '->', ch)\n",
    "        context =  context[1:] + [ch]\n",
    "        \n",
    "    "
   ]
  },
  {
   "cell_type": "code",
   "execution_count": 22,
   "id": "94428da1-21ba-4e2c-acf7-777dfb5b8fe6",
   "metadata": {},
   "outputs": [
    {
     "data": {
      "text/plain": [
       "[[0, 0, 0],\n",
       " [0, 0, 5],\n",
       " [0, 5, 13],\n",
       " [5, 13, 13],\n",
       " [13, 13, 1],\n",
       " [0, 0, 0],\n",
       " [0, 0, 15],\n",
       " [0, 15, 12],\n",
       " [15, 12, 9],\n",
       " [12, 9, 22],\n",
       " [9, 22, 9],\n",
       " [22, 9, 1],\n",
       " [0, 0, 0],\n",
       " [0, 0, 1],\n",
       " [0, 1, 22],\n",
       " [1, 22, 1],\n",
       " [0, 0, 0],\n",
       " [0, 0, 9],\n",
       " [0, 9, 19],\n",
       " [9, 19, 1],\n",
       " [19, 1, 2],\n",
       " [1, 2, 5],\n",
       " [2, 5, 12],\n",
       " [5, 12, 12],\n",
       " [12, 12, 1],\n",
       " [0, 0, 0],\n",
       " [0, 0, 19],\n",
       " [0, 19, 15],\n",
       " [19, 15, 16],\n",
       " [15, 16, 8],\n",
       " [16, 8, 9],\n",
       " [8, 9, 1]]"
      ]
     },
     "execution_count": 22,
     "metadata": {},
     "output_type": "execute_result"
    }
   ],
   "source": [
    "X"
   ]
  },
  {
   "cell_type": "code",
   "execution_count": 10,
   "id": "155af736-75d3-4216-857a-95745fe1031f",
   "metadata": {},
   "outputs": [
    {
     "ename": "ValueError",
     "evalue": "too many dimensions 'str'",
     "output_type": "error",
     "traceback": [
      "\u001b[0;31m---------------------------------------------------------------------------\u001b[0m",
      "\u001b[0;31mValueError\u001b[0m                                Traceback (most recent call last)",
      "Cell \u001b[0;32mIn[10], line 1\u001b[0m\n\u001b[0;32m----> 1\u001b[0m X \u001b[38;5;241m=\u001b[39m \u001b[43mtorch\u001b[49m\u001b[38;5;241;43m.\u001b[39;49m\u001b[43mtensor\u001b[49m\u001b[43m(\u001b[49m\u001b[43mX\u001b[49m\u001b[43m)\u001b[49m\n\u001b[1;32m      2\u001b[0m Y \u001b[38;5;241m=\u001b[39m torch\u001b[38;5;241m.\u001b[39mtensor(Y)\n",
      "\u001b[0;31mValueError\u001b[0m: too many dimensions 'str'"
     ]
    }
   ],
   "source": [
    "X = torch.tensor(X)\n",
    "Y = torch.tensor(Y)"
   ]
  },
  {
   "cell_type": "code",
   "execution_count": null,
   "id": "403d9ed0-a3ca-41d3-84a1-93192b33e524",
   "metadata": {},
   "outputs": [],
   "source": []
  }
 ],
 "metadata": {
  "kernelspec": {
   "display_name": "Python 3 (ipykernel)",
   "language": "python",
   "name": "python3"
  },
  "language_info": {
   "codemirror_mode": {
    "name": "ipython",
    "version": 3
   },
   "file_extension": ".py",
   "mimetype": "text/x-python",
   "name": "python",
   "nbconvert_exporter": "python",
   "pygments_lexer": "ipython3",
   "version": "3.12.0"
  }
 },
 "nbformat": 4,
 "nbformat_minor": 5
}
